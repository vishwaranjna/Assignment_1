{
 "cells": [
  {
   "cell_type": "code",
   "execution_count": 4,
   "id": "57daa855-9f59-465b-9cc2-55d78b897b06",
   "metadata": {},
   "outputs": [
    {
     "name": "stdin",
     "output_type": "stream",
     "text": [
      "enter the marks :  100\n"
     ]
    },
    {
     "name": "stdout",
     "output_type": "stream",
     "text": [
      " your batch is a0 :\n"
     ]
    }
   ],
   "source": [
    "marks = int(input(\"enter the marks : \"))\n",
    "if marks >=80 :\n",
    "    print(\" your batch is a0 :\")\n",
    "elif marks >=60 and marks<80 :\n",
    "    print(\"your are part of A1 batch : \")\n",
    "elif marks >=40 and marks <60 :\n",
    "    print(\"you are the part of A2 batch:\")\n",
    "else:\n",
    "    print(\"you are the part of A3 batch :\")"
   ]
  },
  {
   "cell_type": "code",
   "execution_count": 6,
   "id": "a42169db-2850-4606-8d60-09b384f1fa80",
   "metadata": {},
   "outputs": [
    {
     "name": "stdin",
     "output_type": "stream",
     "text": [
      "enter the price :  200\n"
     ]
    },
    {
     "name": "stdout",
     "output_type": "stream",
     "text": [
      "i will purchases :\n"
     ]
    }
   ],
   "source": [
    "price = int(input(\"enter the price : \"))\n",
    "if price >=1000:\n",
    "    print(\"i will not purchases\")\n",
    "else:\n",
    "    print(\"i will purchases :\")"
   ]
  },
  {
   "cell_type": "code",
   "execution_count": 8,
   "id": "d92143ca-7789-42c5-a821-269ea378d2ae",
   "metadata": {},
   "outputs": [
    {
     "name": "stdin",
     "output_type": "stream",
     "text": [
      "enter the price :  6000\n"
     ]
    },
    {
     "name": "stdout",
     "output_type": "stream",
     "text": [
      "i will not purchases\n",
      "To much high\n"
     ]
    }
   ],
   "source": [
    "price = int(input(\"enter the price : \"))\n",
    "if price >=1000:\n",
    "    print(\"i will not purchases\")\n",
    "    if price>5000:\n",
    "        print(\"To much high\")\n",
    "else:\n",
    "    print(\"i will purchases :\")"
   ]
  },
  {
   "cell_type": "code",
   "execution_count": 9,
   "id": "bd87cb39-d05d-4183-941b-11446f1af9cc",
   "metadata": {},
   "outputs": [],
   "source": [
    "l=[1,2,3,4,5,6,7,89,9]"
   ]
  },
  {
   "cell_type": "code",
   "execution_count": 10,
   "id": "81755169-442f-48e9-873f-669e2604520e",
   "metadata": {},
   "outputs": [
    {
     "data": {
      "text/plain": [
       "[1, 2, 3, 4, 5, 6, 7, 89, 9]"
      ]
     },
     "execution_count": 10,
     "metadata": {},
     "output_type": "execute_result"
    }
   ],
   "source": [
    "l"
   ]
  },
  {
   "cell_type": "code",
   "execution_count": 12,
   "id": "5befbbf0-4a4d-451a-b304-e0351746c55d",
   "metadata": {},
   "outputs": [
    {
     "name": "stdout",
     "output_type": "stream",
     "text": [
      "1\n",
      "2\n",
      "3\n",
      "4\n",
      "5\n",
      "6\n",
      "7\n",
      "89\n",
      "9\n"
     ]
    }
   ],
   "source": [
    "for i in l:\n",
    "    print(i)"
   ]
  },
  {
   "cell_type": "code",
   "execution_count": 15,
   "id": "98f56482-72af-4727-977d-7b59ac89ae06",
   "metadata": {},
   "outputs": [
    {
     "name": "stdout",
     "output_type": "stream",
     "text": [
      "2\n",
      "3\n",
      "4\n",
      "5\n",
      "6\n",
      "7\n",
      "8\n",
      "90\n",
      "10\n"
     ]
    },
    {
     "data": {
      "text/plain": [
       "[2, 3, 4, 5, 6, 7, 8, 90, 10]"
      ]
     },
     "execution_count": 15,
     "metadata": {},
     "output_type": "execute_result"
    }
   ],
   "source": [
    "l1=[]\n",
    "for i in l:\n",
    "    print(i+1)\n",
    "    l1.append(i+1)\n",
    "l1    "
   ]
  },
  {
   "cell_type": "code",
   "execution_count": 16,
   "id": "54f96e83-c22c-47f7-a8dd-148ced4d788e",
   "metadata": {},
   "outputs": [
    {
     "data": {
      "text/plain": [
       "[1, 2, 3, 4, 5, 6, 7, 89, 9]"
      ]
     },
     "execution_count": 16,
     "metadata": {},
     "output_type": "execute_result"
    }
   ],
   "source": [
    "l"
   ]
  },
  {
   "cell_type": "code",
   "execution_count": 17,
   "id": "e78190fe-96aa-4dd3-ac4e-32263779e4e5",
   "metadata": {},
   "outputs": [
    {
     "data": {
      "text/plain": [
       "[2, 3, 4, 5, 6, 7, 8, 90, 10]"
      ]
     },
     "execution_count": 17,
     "metadata": {},
     "output_type": "execute_result"
    }
   ],
   "source": [
    "l1"
   ]
  },
  {
   "cell_type": "code",
   "execution_count": 2,
   "id": "1136b52b-ec49-4b7f-9f7c-97572c7d6fb8",
   "metadata": {},
   "outputs": [],
   "source": [
    "l2 =['vishwa','ranjan','bharti']"
   ]
  },
  {
   "cell_type": "code",
   "execution_count": 4,
   "id": "552130de-9196-4dd9-bfe8-cb8155b6af4b",
   "metadata": {},
   "outputs": [
    {
     "name": "stdout",
     "output_type": "stream",
     "text": [
      "vishwa\n",
      "ranjan\n",
      "bharti\n"
     ]
    },
    {
     "data": {
      "text/plain": [
       "['VISHWA', 'RANJAN', 'BHARTI']"
      ]
     },
     "execution_count": 4,
     "metadata": {},
     "output_type": "execute_result"
    }
   ],
   "source": [
    "lx = []\n",
    "for i in l2:\n",
    "    print(i)\n",
    "    lx.append(i.upper())\n",
    "lx    \n",
    "    "
   ]
  },
  {
   "cell_type": "code",
   "execution_count": 5,
   "id": "f100e0d7-e2c0-4e09-8444-392abd00559f",
   "metadata": {},
   "outputs": [],
   "source": [
    "l = [10,20,30,'vishwa','ranjan','bhartii',10.32,'vish']"
   ]
  },
  {
   "cell_type": "code",
   "execution_count": 6,
   "id": "80442416-3594-433b-8462-18a90bb6f1c3",
   "metadata": {},
   "outputs": [],
   "source": [
    "li = []\n",
    "lstr = []\n",
    "for i in l:\n",
    "    if type(i) == int or type(i) == float :\n",
    "        li.append(i)\n",
    "    else:\n",
    "        lstr.append(i)\n",
    "    "
   ]
  },
  {
   "cell_type": "code",
   "execution_count": 8,
   "id": "055adef5-15c5-4765-a4a5-c98983f54362",
   "metadata": {},
   "outputs": [
    {
     "data": {
      "text/plain": [
       "[10, 20, 30]"
      ]
     },
     "execution_count": 8,
     "metadata": {},
     "output_type": "execute_result"
    }
   ],
   "source": [
    "li"
   ]
  },
  {
   "cell_type": "code",
   "execution_count": 9,
   "id": "2ea38299-002e-4bd8-a174-d5ccccc565c1",
   "metadata": {},
   "outputs": [
    {
     "data": {
      "text/plain": [
       "['vishwa', 'ranjan', 'bhartii']"
      ]
     },
     "execution_count": 9,
     "metadata": {},
     "output_type": "execute_result"
    }
   ],
   "source": [
    "lstr"
   ]
  },
  {
   "cell_type": "code",
   "execution_count": null,
   "id": "143f9d54-f1fe-4f75-96d8-29478534bc27",
   "metadata": {},
   "outputs": [],
   "source": []
  }
 ],
 "metadata": {
  "kernelspec": {
   "display_name": "Python 3 (ipykernel)",
   "language": "python",
   "name": "python3"
  },
  "language_info": {
   "codemirror_mode": {
    "name": "ipython",
    "version": 3
   },
   "file_extension": ".py",
   "mimetype": "text/x-python",
   "name": "python",
   "nbconvert_exporter": "python",
   "pygments_lexer": "ipython3",
   "version": "3.10.8"
  }
 },
 "nbformat": 4,
 "nbformat_minor": 5
}
